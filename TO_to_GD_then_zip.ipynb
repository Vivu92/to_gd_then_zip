{
  "cells": [
    {
      "cell_type": "markdown",
      "metadata": {
        "id": "view-in-github",
        "colab_type": "text"
      },
      "source": [
        "<a href=\"https://colab.research.google.com/github/Vivu92/to_gd_then_zip/blob/main/TO_to_GD_then_zip.ipynb\" target=\"_parent\"><img src=\"https://colab.research.google.com/assets/colab-badge.svg\" alt=\"Open In Colab\"/></a>"
      ]
    },
    {
      "cell_type": "markdown",
      "metadata": {
        "id": "GTGpwWGjbnDF"
      },
      "source": [
        "# How to download torrent to google drive\n"
      ]
    },
    {
      "cell_type": "markdown",
      "metadata": {
        "id": "13YvP-xWcDy0"
      },
      "source": [
        "## Step 1: Import google drive"
      ]
    },
    {
      "cell_type": "code",
      "execution_count": null,
      "metadata": {
        "id": "fjkOUPE_cApD"
      },
      "outputs": [],
      "source": [
        "from google.colab import drive\n",
        "drive.mount('/content/drive')"
      ]
    },
    {
      "cell_type": "markdown",
      "metadata": {
        "id": "n0lyZT5mccQc"
      },
      "source": [
        "## Step 2: Install module\n",
        "## Libtorrent is a feature complete C++ bittorrent implementation focusing on efficiency and scalability.\n",
        "https://www.libtorrent.org/\n",
        "## Google colab support 75.88 GB after install module. Please choose file size under 75.88 GB."
      ]
    },
    {
      "cell_type": "code",
      "execution_count": null,
      "metadata": {
        "id": "CDHUxfL8cDLM"
      },
      "outputs": [],
      "source": [
        "!python -m pip install --upgrade pip setuptools wheel\n",
        "!python -m pip install lbry-libtorrent"
      ]
    },
    {
      "cell_type": "markdown",
      "metadata": {
        "id": "gtpvpyngdFB1"
      },
      "source": [
        "## Step 3: Import module and set up save location"
      ]
    },
    {
      "cell_type": "code",
      "execution_count": null,
      "metadata": {
        "id": "j7891aKAdT5L"
      },
      "outputs": [],
      "source": [
        "import libtorrent as lt\n",
        "import time\n",
        "import datetime\n",
        "from IPython.display import clear_output # Clear output for better look\n",
        "\n",
        "ses = lt.session()\n",
        "ses.listen_on(6881, 6891) #here we are defining the ports on which BitTorrent works\n",
        "params = {\n",
        "    'save_path': '/content/drive/My Drive/Torrent/',\n",
        "    'storage_mode': lt.storage_mode_t(2)}\n",
        "# params means parameters\n",
        "# In paras we are defining the location on drive where we want to save the downloaded files\n",
        "# we also define storage mode, in this case we are using \"sparse allocation mode\"\n",
        "# The sparse allocation, sparse files are used, and pieces are downloaded directly to where they belong. This is the recommended (and default) mode."
      ]
    },
    {
      "cell_type": "markdown",
      "metadata": {
        "id": "4Pkp6OTsdeRk"
      },
      "source": [
        "## Step 4: Insert magnet link and download\n",
        "## Maybe It takes 2 time to work"
      ]
    },
    {
      "cell_type": "code",
      "execution_count": null,
      "metadata": {
        "id": "MheaMomwdwha"
      },
      "outputs": [],
      "source": [
        "link = input(\"Paste magnet link: \")\n",
        "\n",
        "\n",
        "handle = lt.add_magnet_uri(ses, link, params)\n",
        "time.sleep(2)\n",
        "ses.start_dht()\n",
        "begin = time.time()\n",
        "while not handle.has_metadata():\n",
        "  print('Link Error. Please try again!')\n",
        "  break\n",
        "else:\n",
        "  while (handle.status().state != lt.torrent_status.seeding):\n",
        "      clear_output(wait=True)\n",
        "      s = handle.status()\n",
        "      state_str = ['queued', 'checking', 'downloading metadata', \\\n",
        "              'downloading', 'finished', 'seeding', 'allocating']\n",
        "      print(f'{handle.name()} is {state_str[s.state]}')\n",
        "      print(f'{s.progress:.2%} complete (down: {s.download_rate/1000:.1f} kb/s, up: {s.upload_rate/1000:.1f} kb/s), peer: {s.num_peers}, seed: {s.num_seeds}')\n",
        "      time.sleep(2)\n",
        "  clear_output(wait=True)\n",
        "  end = time.time()\n",
        "  print(handle.name(), \"DOWNLOAD COMPLETE\")\n",
        "  print(\"Elapsed Time: \",int((end-begin)//60),\"min\", int((end-begin)%60), \"sec\")\n"
      ]
    },
    {
      "cell_type": "markdown",
      "source": [
        "# How to zip your file\n",
        "## Insert your path to zip then run generate code\n",
        "## Zip file name can be modify"
      ],
      "metadata": {
        "id": "_0w_fTiEaR2I"
      }
    },
    {
      "cell_type": "code",
      "execution_count": null,
      "metadata": {
        "id": "zzXqGGnLaAwU"
      },
      "outputs": [],
      "source": [
        "from os import chdir\n",
        "from pathlib import Path\n",
        "\n",
        "link = input(\"Enter path: \")\n",
        "path = Path(link)\n",
        "cwd = Path.cwd()\n",
        "chdir(path.parent)\n",
        "print(f'''-----\n",
        "Default working directory: {cwd}\n",
        "Change working directory: {Path.cwd()}\n",
        "-----\n",
        "Create zip file: {path.stem}.zip\n",
        "Folder/File to zip: {path.name}\n",
        "------\n",
        "Copy this code to run on next code:\n",
        "!zip -r '{path.stem}.zip' '{path.name}'\n",
        "''')"
      ]
    },
    {
      "cell_type": "code",
      "execution_count": null,
      "metadata": {
        "id": "PvPGMcMbaPfy"
      },
      "outputs": [],
      "source": []
    }
  ],
  "metadata": {
    "colab": {
      "provenance": [],
      "toc_visible": true,
      "include_colab_link": true
    },
    "kernelspec": {
      "display_name": "Python 3",
      "name": "python3"
    },
    "language_info": {
      "name": "python"
    }
  },
  "nbformat": 4,
  "nbformat_minor": 0
}